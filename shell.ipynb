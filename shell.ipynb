{
 "cells": [
  {
   "cell_type": "code",
   "execution_count": 4,
   "metadata": {},
   "outputs": [],
   "source": [
    "from langgraph.graph import START, END, MessagesState\n",
    "from langchain_community.tools import ShellTool\n",
    "from langchain_ollama.chat_models import ChatOllama"
   ]
  },
  {
   "cell_type": "code",
   "execution_count": 10,
   "metadata": {},
   "outputs": [
    {
     "data": {
      "text/plain": [
       "[{'name': 'shell_tool',\n",
       "  'args': {'commands': ['mkdir John']},\n",
       "  'id': '56bfdfbd-3e3d-4f54-9acc-65e2f5a48a07',\n",
       "  'type': 'tool_call'}]"
      ]
     },
     "execution_count": 10,
     "metadata": {},
     "output_type": "execute_result"
    }
   ],
   "source": [
    "import os \n",
    "\n",
    "def shell(command): \n",
    "    \"\"\"\n",
    "    shell is a tool to execute commands directly on the \n",
    "    linux shell \n",
    "    Args: \n",
    "        command : string \n",
    "    Returns: \n",
    "        the result of executing the command \n",
    "    \"\"\"\n",
    "    return os.popen(command).read()\n",
    "\n",
    "llm = ChatOllama(model=\"llama3.1\",tempreture=0).bind_tools([shell_tool])\n",
    "llm.invoke(\"I Watn you to make a directory named John using commands\").tool_calls"
   ]
  },
  {
   "cell_type": "code",
   "execution_count": 11,
   "metadata": {},
   "outputs": [],
   "source": [
    "from langgraph.graph import START, END, MessagesState, StateGraph\n",
    "from langgraph.prebuilt import ToolNode, tools_condition"
   ]
  },
  {
   "cell_type": "code",
   "execution_count": 12,
   "metadata": {},
   "outputs": [],
   "source": [
    "from langchain_core.messages import SystemMessage\n",
    "\n",
    "sys_msg = SystemMessage(content=\"your a Linux AI assistant that has direct access to the shell to execute commands\")\n",
    "\n",
    "def planner(state: MessagesState): \n",
    "    return {\"messages\": llm.invoke([sys_msg] + state[\"messages\"])}"
   ]
  },
  {
   "cell_type": "code",
   "execution_count": null,
   "metadata": {},
   "outputs": [],
   "source": [
    "def human(state: MessagesState): \n",
    "    tool_call = state[\"messages\"][-1].tool_calls\n",
    "    print(tool_call)"
   ]
  },
  {
   "cell_type": "code",
   "execution_count": null,
   "metadata": {},
   "outputs": [],
   "source": [
    "builder = StateGraph(MessagesState)"
   ]
  }
 ],
 "metadata": {
  "kernelspec": {
   "display_name": "Autopilot",
   "language": "python",
   "name": "python3"
  },
  "language_info": {
   "codemirror_mode": {
    "name": "ipython",
    "version": 3
   },
   "file_extension": ".py",
   "mimetype": "text/x-python",
   "name": "python",
   "nbconvert_exporter": "python",
   "pygments_lexer": "ipython3",
   "version": "3.12.6"
  }
 },
 "nbformat": 4,
 "nbformat_minor": 2
}
