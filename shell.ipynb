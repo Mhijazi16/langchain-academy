{
 "cells": [
  {
   "cell_type": "code",
   "execution_count": 4,
   "metadata": {},
   "outputs": [],
   "source": [
    "from langgraph.graph import START, END, MessagesState\n",
    "from langchain_community.tools import ShellTool\n",
    "from langchain_ollama.chat_models import ChatOllama"
   ]
  },
  {
   "cell_type": "code",
   "execution_count": 6,
   "metadata": {},
   "outputs": [
    {
     "data": {
      "text/plain": [
       "[{'name': 'shell_tool',\n",
       "  'args': {'command': 'mkdir John'},\n",
       "  'id': 'b9c9df0d-0d09-41f2-89f6-d37928377e05',\n",
       "  'type': 'tool_call'}]"
      ]
     },
     "execution_count": 6,
     "metadata": {},
     "output_type": "execute_result"
    }
   ],
   "source": [
    "import os \n",
    "\n",
    "def shell(command): \n",
    "    \"\"\"\n",
    "    shell is a tool to execute commands directly on the \n",
    "    linux shell \n",
    "    Args: \n",
    "        command : string \n",
    "    Returns: \n",
    "        the result of executing the command \n",
    "    \"\"\"\n",
    "    input(\"do you want to execute : \" + command)\n",
    "    return os.popen(command)\n",
    "\n",
    "llm = ChatOllama(model=\"llama3.1\",tempreture=0).bind_tools([shell_tool])\n",
    "llm.invoke(\"I Watn you to make a directory named John using commands\").tool_calls"
   ]
  }
 ],
 "metadata": {
  "kernelspec": {
   "display_name": "Autopilot",
   "language": "python",
   "name": "python3"
  },
  "language_info": {
   "codemirror_mode": {
    "name": "ipython",
    "version": 3
   },
   "file_extension": ".py",
   "mimetype": "text/x-python",
   "name": "python",
   "nbconvert_exporter": "python",
   "pygments_lexer": "ipython3",
   "version": "3.12.6"
  }
 },
 "nbformat": 4,
 "nbformat_minor": 2
}
