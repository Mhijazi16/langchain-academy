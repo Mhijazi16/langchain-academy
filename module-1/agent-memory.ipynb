{
 "cells": [
  {
   "attachments": {},
   "cell_type": "markdown",
   "id": "8c451ffd-a18b-4412-85fa-85186824dd03",
   "metadata": {},
   "source": [
    "# Agent memory\n",
    "\n",
    "## Review\n",
    "\n",
    "Previously, we built an agent that can:\n",
    "\n",
    "* `act` - let the model call specific tools \n",
    "* `observe` - pass the tool output back to the model \n",
    "* `reason` - let the model reason about the tool output to decide what to do next (e.g., call another tool or just respond directly)\n",
    "\n",
    "![Screenshot 2024-08-21 at 12.45.32 PM.png](https://cdn.prod.website-files.com/65b8cd72835ceeacd4449a53/66dbab7453080e6802cd1703_agent-memory1.png)\n",
    "\n",
    "## Goals\n",
    "\n",
    "Now, we're going extend our agent by introducing memory."
   ]
  },
  {
   "attachments": {},
   "cell_type": "markdown",
   "id": "ff8fc3bf-3999-47cb-af34-06b2b94d7192",
   "metadata": {},
   "source": [
    "When we use memory, we need to specify a `thread_id`.\n",
    "\n",
    "This `thread_id` will store our collection of graph states.\n",
    "\n",
    "Here is a cartoon:\n",
    "\n",
    "* The checkpointer write the state at every step of the graph\n",
    "* These checkpoints are saved in a thread \n",
    "* We can access that thread in the future using the `thread_id`\n",
    "\n",
    "![state.jpg](https://cdn.prod.website-files.com/65b8cd72835ceeacd4449a53/66e0e9f526b41a4ed9e2d28b_agent-memory2.png)\n"
   ]
  },
  {
   "cell_type": "code",
   "execution_count": 1,
   "id": "3c7bf6fb",
   "metadata": {},
   "outputs": [],
   "source": [
    "from langchain_groq.chat_models import ChatGroq\n",
    "from langgraph.graph import MessagesState, START, END, StateGraph\n",
    "from langgraph.prebuilt import ToolNode, tools_condition"
   ]
  },
  {
   "cell_type": "code",
   "execution_count": 34,
   "id": "9b9e22fb",
   "metadata": {},
   "outputs": [],
   "source": [
    "\n",
    "def authenticate_user(username: str, password: str) -> bool: \n",
    "    \"\"\" authenticate_user tool returns True if user exists \n",
    "    else returns Flase\n",
    "    Args: \n",
    "        username: str\n",
    "        password: str\n",
    "    Retuns : \n",
    "        boolean either True or False \n",
    "    \"\"\"\n",
    "    if username == \"Mohammed\" and password == \"123\": \n",
    "        return True\n",
    "    return False\n",
    "\n",
    "def get_user_info(name: str) -> str: \n",
    "    \"\"\"get_user_info returns int the age of user\n",
    "    Args: \n",
    "        name : str\n",
    "    Returns: \n",
    "        info about the user\n",
    "    \"\"\"\n",
    "\n",
    "    if name == \"Mohammed\": \n",
    "        return \"your a SWE and your age is 50\"\n",
    "    return \"Invalid user\""
   ]
  },
  {
   "cell_type": "code",
   "execution_count": 45,
   "id": "7679f97a",
   "metadata": {},
   "outputs": [],
   "source": [
    "tools = [authenticate_user,get_user_info]\n",
    "groq = ChatGroq(model=\"llama3-groq-8b-8192-tool-use-preview\").bind_tools(tools=tools)"
   ]
  },
  {
   "cell_type": "code",
   "execution_count": 35,
   "id": "ab66f791",
   "metadata": {},
   "outputs": [],
   "source": [
    "from langchain_core.messages import AIMessage, HumanMessage, SystemMessage\n",
    "\n",
    "sys_msg = SystemMessage(content=\"your a helpful assistants the mangages authenticating users for me\")\n",
    "\n",
    "def planner(state: MessagesState): \n",
    "    return {\"messages\": [groq.invoke([sys_msg] + state[\"messages\"])]}"
   ]
  },
  {
   "cell_type": "code",
   "execution_count": 12,
   "metadata": {},
   "outputs": [],
   "source": [
    "builder = StateGraph(MessagesState)\n",
    "builder.add_node(\"planner\",planner)\n",
    "builder.add_node(\"tools\",ToolNode(tools))\n",
    "\n",
    "builder.add_edge(START,\"planner\")\n",
    "builder.add_edge(\"tools\",\"planner\")\n",
    "builder.add_conditional_edges(\"planner\",tools_condition)\n",
    "\n",
    "workflow = builder.compile()"
   ]
  },
  {
   "cell_type": "code",
   "execution_count": 13,
   "id": "d40d2ec4",
   "metadata": {},
   "outputs": [
    {
     "data": {
      "image/jpeg": "[encoded data removed]",
      "text/plain": [
       "<IPython.core.display.Image object>"
      ]
     },
     "metadata": {},
     "output_type": "display_data"
    }
   ],
   "source": [
    "from IPython.display import display, Image\n",
    "\n",
    "display(Image(workflow.get_graph().draw_mermaid_png()))"
   ]
  },
  {
   "cell_type": "code",
   "execution_count": 36,
   "id": "d9c2b987",
   "metadata": {},
   "outputs": [],
   "source": [
    "from langchain_core.messages import HumanMessage\n",
    "\n",
    "message = HumanMessage(content=\"authenticate user Mohammed with password 123\")\n",
    "config = {\"configurable\": {\"thread_id\": \"1\"}}\n",
    "chat = workflow.invoke({\"messages\": \"authenticate user Mohammed with password 123\"})"
   ]
  },
  {
   "cell_type": "code",
   "execution_count": 38,
   "id": "0b957c90",
   "metadata": {},
   "outputs": [
    {
     "name": "stdout",
     "output_type": "stream",
     "text": [
      "================================\u001b[1m Human Message \u001b[0m=================================\n",
      "\n",
      "authenticate user Mohammed with password 123\n",
      "==================================\u001b[1m Ai Message \u001b[0m==================================\n",
      "Tool Calls:\n",
      "  authenticate_user (call_nx2n)\n",
      " Call ID: call_nx2n\n",
      "  Args:\n",
      "    username: Mohammed\n",
      "    password: 123\n",
      "=================================\u001b[1m Tool Message \u001b[0m=================================\n",
      "Name: authenticate_user\n",
      "\n",
      "true\n",
      "==================================\u001b[1m Ai Message \u001b[0m==================================\n",
      "\n",
      "The user Mohammed has been successfully authenticated.\n"
     ]
    }
   ],
   "source": [
    "for m in chat['messages']: \n",
    "    m.pretty_print()"
   ]
  },
  {
   "cell_type": "code",
   "execution_count": 41,
   "id": "82907c94",
   "metadata": {},
   "outputs": [],
   "source": [
    "from langgraph.checkpoint.memory import MemorySaver\n",
    "\n",
    "workflow2 = builder.compile(MemorySaver())\n",
    "config = {\"configurable\": {\"thread_id\": \"1\"}}\n",
    "mess = [HumanMessage(content=\"only tell me if user is authenticated or not user is Mohammed with password 123\")]"
   ]
  },
  {
   "cell_type": "code",
   "execution_count": 42,
   "id": "156cc734",
   "metadata": {},
   "outputs": [
    {
     "data": {
      "text/plain": [
       "{'messages': [HumanMessage(content='authenticate user Mohammed with password 123', additional_kwargs={}, response_metadata={}, id='cc739f43-cd2a-4350-99cf-c5995a346776'),\n",
       "  AIMessage(content='', additional_kwargs={'tool_calls': [{'id': 'call_yv3n', 'function': {'arguments': '{\"username\": \"Mohammed\", \"password\": \"123\"}', 'name': 'authenticate_user'}, 'type': 'function'}]}, response_metadata={'token_usage': {'completion_tokens': 33, 'prompt_tokens': 333, 'total_tokens': 366, 'completion_time': 0.02988461, 'prompt_time': 0.045624288, 'queue_time': 0.0014994220000000003, 'total_time': 0.075508898}, 'model_name': 'llama3-groq-8b-8192-tool-use-preview', 'system_fingerprint': 'fp_260dc69250', 'finish_reason': 'tool_calls', 'logprobs': None}, id='run-0529e056-2b5d-43fa-8594-b0bde258d9c0-0', tool_calls=[{'name': 'authenticate_user', 'args': {'username': 'Mohammed', 'password': '123'}, 'id': 'call_yv3n', 'type': 'tool_call'}], usage_metadata={'input_tokens': 333, 'output_tokens': 33, 'total_tokens': 366}),\n",
       "  ToolMessage(content='true', name='authenticate_user', id='13e5d262-17eb-4b26-a9e8-95b3e970c1db', tool_call_id='call_yv3n'),\n",
       "  AIMessage(content='The user Mohammed has been successfully authenticated.', additional_kwargs={}, response_metadata={'token_usage': {'completion_tokens': 9, 'prompt_tokens': 387, 'total_tokens': 396, 'completion_time': 0.00745591, 'prompt_time': 0.051882569, 'queue_time': 0.001079179999999999, 'total_time': 0.059338479}, 'model_name': 'llama3-groq-8b-8192-tool-use-preview', 'system_fingerprint': 'fp_260dc69250', 'finish_reason': 'stop', 'logprobs': None}, id='run-3de6f4ff-585b-4eae-b51e-883af6f3d4b2-0', usage_metadata={'input_tokens': 387, 'output_tokens': 9, 'total_tokens': 396})]}"
      ]
     },
     "execution_count": 42,
     "metadata": {},
     "output_type": "execute_result"
    }
   ],
   "source": [
    "workflow2.invoke({\"messages\":message},config)"
   ]
  },
  {
   "cell_type": "code",
   "execution_count": 47,
   "id": "7473e37f",
   "metadata": {},
   "outputs": [
    {
     "data": {
      "text/plain": [
       "{'messages': [HumanMessage(content='authenticate user Mohammed with password 123', additional_kwargs={}, response_metadata={}, id='cc739f43-cd2a-4350-99cf-c5995a346776'),\n",
       "  AIMessage(content='', additional_kwargs={'tool_calls': [{'id': 'call_yv3n', 'function': {'arguments': '{\"username\": \"Mohammed\", \"password\": \"123\"}', 'name': 'authenticate_user'}, 'type': 'function'}]}, response_metadata={'token_usage': {'completion_tokens': 33, 'prompt_tokens': 333, 'total_tokens': 366, 'completion_time': 0.02988461, 'prompt_time': 0.045624288, 'queue_time': 0.0014994220000000003, 'total_time': 0.075508898}, 'model_name': 'llama3-groq-8b-8192-tool-use-preview', 'system_fingerprint': 'fp_260dc69250', 'finish_reason': 'tool_calls', 'logprobs': None}, id='run-0529e056-2b5d-43fa-8594-b0bde258d9c0-0', tool_calls=[{'name': 'authenticate_user', 'args': {'username': 'Mohammed', 'password': '123'}, 'id': 'call_yv3n', 'type': 'tool_call'}], usage_metadata={'input_tokens': 333, 'output_tokens': 33, 'total_tokens': 366}),\n",
       "  ToolMessage(content='true', name='authenticate_user', id='13e5d262-17eb-4b26-a9e8-95b3e970c1db', tool_call_id='call_yv3n'),\n",
       "  AIMessage(content='The user Mohammed has been successfully authenticated.', additional_kwargs={}, response_metadata={'token_usage': {'completion_tokens': 9, 'prompt_tokens': 387, 'total_tokens': 396, 'completion_time': 0.00745591, 'prompt_time': 0.051882569, 'queue_time': 0.001079179999999999, 'total_time': 0.059338479}, 'model_name': 'llama3-groq-8b-8192-tool-use-preview', 'system_fingerprint': 'fp_260dc69250', 'finish_reason': 'stop', 'logprobs': None}, id='run-3de6f4ff-585b-4eae-b51e-883af6f3d4b2-0', usage_metadata={'input_tokens': 387, 'output_tokens': 9, 'total_tokens': 396}),\n",
       "  HumanMessage(content='retrive more info about that user', additional_kwargs={}, response_metadata={}, id='2b54f287-8e9b-40fd-99fe-a1ba60c3e5da'),\n",
       "  AIMessage(content=\"I'm sorry, but I can only assist with authentication. For retrieving more information, you might need to use a different tool or service.\", additional_kwargs={}, response_metadata={'token_usage': {'completion_tokens': 29, 'prompt_tokens': 413, 'total_tokens': 442, 'completion_time': 0.026125385, 'prompt_time': 0.056307036, 'queue_time': 0.0011783539999999995, 'total_time': 0.082432421}, 'model_name': 'llama3-groq-8b-8192-tool-use-preview', 'system_fingerprint': 'fp_260dc69250', 'finish_reason': 'stop', 'logprobs': None}, id='run-f08950ad-fd5f-47b8-adf8-5ee4838391d4-0', usage_metadata={'input_tokens': 413, 'output_tokens': 29, 'total_tokens': 442}),\n",
       "  HumanMessage(content='retrive more info about that user', additional_kwargs={}, response_metadata={}, id='5c81af05-ac04-4e9e-9c2a-d7e76c046f9b'),\n",
       "  AIMessage(content='', additional_kwargs={'tool_calls': [{'id': 'call_rwbk', 'function': {'arguments': '{\"name\":\"Mohammed\"}', 'name': 'get_user_info'}, 'type': 'function'}]}, response_metadata={'token_usage': {'completion_tokens': 26, 'prompt_tokens': 469, 'total_tokens': 495, 'completion_time': 0.023286777, 'prompt_time': 0.063005086, 'queue_time': 0.001013615999999995, 'total_time': 0.086291863}, 'model_name': 'llama3-groq-8b-8192-tool-use-preview', 'system_fingerprint': 'fp_260dc69250', 'finish_reason': 'tool_calls', 'logprobs': None}, id='run-e3746b8a-1b6c-42cb-81c6-476b8f926fb4-0', tool_calls=[{'name': 'get_user_info', 'args': {'name': 'Mohammed'}, 'id': 'call_rwbk', 'type': 'tool_call'}], usage_metadata={'input_tokens': 469, 'output_tokens': 26, 'total_tokens': 495}),\n",
       "  ToolMessage(content=\"Error: 1 validation error for get_user_info\\nis_valid\\n  Field required [type=missing, input_value={'name': 'Mohammed'}, input_type=dict]\\n    For further information visit https://errors.pydantic.dev/2.9/v/missing\\n Please fix your mistakes.\", name='get_user_info', id='4035504f-8953-46d3-971b-1c7806e9f73e', tool_call_id='call_rwbk'),\n",
       "  AIMessage(content=\"It seems there was an error retrieving more information about the user Mohammed. The tool requires a specific format for the user's name, which was not provided correctly. Please ensure the name is correctly formatted and try again.\", additional_kwargs={}, response_metadata={'token_usage': {'completion_tokens': 44, 'prompt_tokens': 578, 'total_tokens': 622, 'completion_time': 0.040158057, 'prompt_time': 0.076862993, 'queue_time': 0.0009910559999999902, 'total_time': 0.11702105}, 'model_name': 'llama3-groq-8b-8192-tool-use-preview', 'system_fingerprint': 'fp_260dc69250', 'finish_reason': 'stop', 'logprobs': None}, id='run-9792b3a9-8d22-48f6-901b-ecabfbf7781e-0', usage_metadata={'input_tokens': 578, 'output_tokens': 44, 'total_tokens': 622}),\n",
       "  HumanMessage(content='user other tools to retrive more info about that user', additional_kwargs={}, response_metadata={}, id='09f37f6d-3a2b-4987-8cba-65c91c79ba68'),\n",
       "  AIMessage(content=\"I'm sorry, but I can only assist with authentication and providing guidance on how to use other tools. For retrieving more information, you might need to use a different tool or service.\", additional_kwargs={}, response_metadata={'token_usage': {'completion_tokens': 38, 'prompt_tokens': 642, 'total_tokens': 680, 'completion_time': 0.034722955, 'prompt_time': 0.08564393, 'queue_time': 0.0012418180000000056, 'total_time': 0.120366885}, 'model_name': 'llama3-groq-8b-8192-tool-use-preview', 'system_fingerprint': 'fp_260dc69250', 'finish_reason': 'stop', 'logprobs': None}, id='run-b7d4cd57-1b2f-40c2-9389-3d7c100e7530-0', usage_metadata={'input_tokens': 642, 'output_tokens': 38, 'total_tokens': 680})]}"
      ]
     },
     "execution_count": 47,
     "metadata": {},
     "output_type": "execute_result"
    }
   ],
   "source": [
    "mess2 = [HumanMessage(content=\"user other tools to retrive more info about that user\")]\n",
    "workflow2.invoke({\"messages\":mess2},config)"
   ]
  },
  {
   "cell_type": "code",
   "execution_count": null,
   "id": "9b3100eb",
   "metadata": {},
   "outputs": [],
   "source": []
  }
 ],
 "metadata": {
  "kernelspec": {
   "display_name": "Python 3 (ipykernel)",
   "language": "python",
   "name": "python3"
  },
  "language_info": {
   "codemirror_mode": {
    "name": "ipython",
    "version": 3
   },
   "file_extension": ".py",
   "mimetype": "text/x-python",
   "name": "python",
   "nbconvert_exporter": "python",
   "pygments_lexer": "ipython3",
   "version": "3.12.6"
  }
 },
 "nbformat": 4,
 "nbformat_minor": 5
}
