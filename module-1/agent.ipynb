{
 "cells": [
  {
   "attachments": {},
   "cell_type": "markdown",
   "id": "98f5e36a-da49-4ae2-8c74-b910a2f992fc",
   "metadata": {},
   "source": [
    "# Agent\n",
    "\n",
    "\n",
    "![Screenshot 2024-08-21 at 12.44.33 PM.png](https://cdn.prod.website-files.com/65b8cd72835ceeacd4449a53/66dbac0ba0bd34b541c448cc_agent1.png)\n",
    "\n",
    "\n",
    "\n",
    "![Screenshot 2024-08-21 at 12.45.43 PM.png](https://cdn.prod.website-files.com/65b8cd72835ceeacd4449a53/66dbac0b4a2c1e5e02f3e78b_agent2.png)"
   ]
  },
  {
   "cell_type": "code",
   "execution_count": 1,
   "id": "161c2d4d",
   "metadata": {},
   "outputs": [
    {
     "data": {
      "text/plain": [
       "AIMessage(content='Hello! How can I assist you today?', response_metadata={'model': 'llama3-groq-tool-use', 'created_at': '2024-09-16T18:45:51.775222316Z', 'message': {'role': 'assistant', 'content': ''}, 'done_reason': 'stop', 'done': True, 'total_duration': 3893319349, 'load_duration': 3500384239, 'prompt_eval_count': 11, 'prompt_eval_duration': 47991000, 'eval_count': 10, 'eval_duration': 300075000}, id='run-064895a3-71c3-459c-9942-9fc6c42a4968-0', usage_metadata={'input_tokens': 11, 'output_tokens': 10, 'total_tokens': 21})"
      ]
     },
     "execution_count": 1,
     "metadata": {},
     "output_type": "execute_result"
    }
   ],
   "source": [
    "from langchain_ollama.chat_models import ChatOllama\n",
    "\n",
    "llm = ChatOllama(model=\"llama3-groq-tool-use\",temrepture=0)\n",
    "llm.invoke(\"hello\")"
   ]
  },
  {
   "cell_type": "code",
   "execution_count": 3,
   "id": "0bade0b7",
   "metadata": {},
   "outputs": [],
   "source": [
    "def multiply(a: int, b: int): \n",
    "    \"\"\" multiply tool takes in two numbers and multiplies them \n",
    "    Args: \n",
    "        a : int\n",
    "        b : int\n",
    "    Returns: \n",
    "        a * b\n",
    "    \"\"\"\n",
    "    return a * b\n",
    "\n",
    "def divide(a: int, b: int): \n",
    "    \"\"\" add tool takes in two numbers and divides them \n",
    "    Args: \n",
    "        a : int\n",
    "        b : int\n",
    "    Returns: \n",
    "        a / b\n",
    "    \"\"\"\n",
    "    return a + b\n",
    "def add(a: int, b: int): \n",
    "    \"\"\" add tool takes in two numbers and adds them \n",
    "    Args: \n",
    "        a : int\n",
    "        b : int\n",
    "    Returns: \n",
    "        a + b\n",
    "    \"\"\"\n",
    "    return a + b"
   ]
  },
  {
   "cell_type": "code",
   "execution_count": 7,
   "id": "2ea2120d",
   "metadata": {},
   "outputs": [
    {
     "data": {
      "text/plain": [
       "[{'name': 'add',\n",
       "  'args': {'a': 1, 'b': 3},\n",
       "  'id': 'a0f0d5a4-b569-4975-8cda-437570f885a3',\n",
       "  'type': 'tool_call'}]"
      ]
     },
     "execution_count": 7,
     "metadata": {},
     "output_type": "execute_result"
    }
   ],
   "source": [
    "llm_with_tools = llm.bind_tools([add,multiply,divide])\n",
    "call = llm_with_tools.invoke(\"add 1 and 3 \")\n",
    "call.tool_calls"
   ]
  },
  {
   "cell_type": "code",
   "execution_count": null,
   "id": "0a96990e",
   "metadata": {},
   "outputs": [],
   "source": [
    "from langgraph.graph import MessagesState\n",
    "from langchain_core.messages import SystemMessage\n",
    "\n",
    "sys_message = SystemMessage(content=\"your an AI Math assistant coupled with tools to solve math for me\")\n",
    "\n",
    "def tool_selector(state: MessagesState): \n",
    "    return {\"messages\": state[\"messages\"] + llm_with_tools.inovke([sys_message]+ state[\"messages\"])}"
   ]
  }
 ],
 "metadata": {
  "kernelspec": {
   "display_name": "Python 3 (ipykernel)",
   "language": "python",
   "name": "python3"
  },
  "language_info": {
   "codemirror_mode": {
    "name": "ipython",
    "version": 3
   },
   "file_extension": ".py",
   "mimetype": "text/x-python",
   "name": "python",
   "nbconvert_exporter": "python",
   "pygments_lexer": "ipython3",
   "version": "3.12.6"
  }
 },
 "nbformat": 4,
 "nbformat_minor": 5
}
