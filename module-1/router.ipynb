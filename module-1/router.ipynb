{
 "cells": [
  {
   "attachments": {},
   "cell_type": "markdown",
   "id": "ce6fff79-25b5-4884-8aaa-e3ebb7ddd549",
   "metadata": {},
   "source": [
    "# Router\n",
    "\n",
    "\n",
    "![Screenshot 2024-08-21 at 9.24.09 AM.png](https://cdn.prod.website-files.com/65b8cd72835ceeacd4449a53/66dbac6543c3d4df239a4ed1_router1.png)\n"
   ]
  },
  {
   "cell_type": "code",
   "execution_count": 4,
   "id": "4c6d9e9e",
   "metadata": {},
   "outputs": [
    {
     "data": {
      "text/plain": [
       "[{'name': 'Multiply',\n",
       "  'args': {'a': 5, 'b': 5},\n",
       "  'id': 'a116b055-bcde-41a6-82e0-968b8d030535',\n",
       "  'type': 'tool_call'}]"
      ]
     },
     "execution_count": 4,
     "metadata": {},
     "output_type": "execute_result"
    }
   ],
   "source": [
    "from langchain_ollama.chat_models import ChatOllama\n",
    "\n",
    "def Multiply(a: int, b: int): \n",
    "    \"\"\"Multiply call this tool \n",
    "    when you want to multiply two numbers \n",
    "    Args: \n",
    "        a:int \n",
    "        b:int\n",
    "    Returns: \n",
    "        a*b\n",
    "    \"\"\"\n",
    "    return a * b\n",
    "\n",
    "llm_with_tools = ChatOllama(model=\"llama3-groq-tool-use\",tempreture=0).bind_tools([Multiply])\n",
    "llm_with_tools.invoke(\"multiply 5 and 5\").tool_calls"
   ]
  },
  {
   "cell_type": "code",
   "execution_count": 5,
   "id": "9bd2878b",
   "metadata": {},
   "outputs": [],
   "source": [
    "from langgraph.graph import START, END, StateGraph, MessagesState\n",
    "from langgraph.prebuilt import ToolNode\n",
    "from langgraph.prebuilt import tools_condition\n",
    "\n",
    "def tool_selector(state: MessagesState): \n",
    "    return {\"messages\": [llm_with_tools.invoke(state[\"messages\"])]}\n",
    "\n",
    "#create builder\n",
    "builder = StateGraph(MessagesState)\n",
    "\n",
    "#adding nodes\n",
    "builder.add_node(\"tool_selector\", tool_selector)\n",
    "builder.add_node(\"tools\",ToolNode([Multiply]))\n",
    "\n",
    "#adding edges\n",
    "builder.add_edge(START,\"tool_selector\")\n",
    "builder.add_conditional_edges(\"tool_selector\", tools_condition)\n",
    "builder.add_edge(\"tools\",END)"
   ]
  },
  {
   "cell_type": "code",
   "execution_count": null,
   "id": "3b96b4ed",
   "metadata": {},
   "outputs": [],
   "source": []
  },
  {
   "cell_type": "code",
   "execution_count": null,
   "id": "6c74ab67",
   "metadata": {},
   "outputs": [],
   "source": []
  }
 ],
 "metadata": {
  "kernelspec": {
   "display_name": "Python 3 (ipykernel)",
   "language": "python",
   "name": "python3"
  },
  "language_info": {
   "codemirror_mode": {
    "name": "ipython",
    "version": 3
   },
   "file_extension": ".py",
   "mimetype": "text/x-python",
   "name": "python",
   "nbconvert_exporter": "python",
   "pygments_lexer": "ipython3",
   "version": "3.12.6"
  }
 },
 "nbformat": 4,
 "nbformat_minor": 5
}
