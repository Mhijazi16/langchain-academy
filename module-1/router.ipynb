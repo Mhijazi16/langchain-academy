{
 "cells": [
  {
   "attachments": {},
   "cell_type": "markdown",
   "id": "ce6fff79-25b5-4884-8aaa-e3ebb7ddd549",
   "metadata": {},
   "source": [
    "# Router\n",
    "\n",
    "\n",
    "![Screenshot 2024-08-21 at 9.24.09 AM.png](https://cdn.prod.website-files.com/65b8cd72835ceeacd4449a53/66dbac6543c3d4df239a4ed1_router1.png)\n"
   ]
  },
  {
   "cell_type": "code",
   "execution_count": 4,
   "id": "4c6d9e9e",
   "metadata": {},
   "outputs": [
    {
     "data": {
      "text/plain": [
       "[{'name': 'Multiply',\n",
       "  'args': {'a': 5, 'b': 5},\n",
       "  'id': 'a116b055-bcde-41a6-82e0-968b8d030535',\n",
       "  'type': 'tool_call'}]"
      ]
     },
     "execution_count": 4,
     "metadata": {},
     "output_type": "execute_result"
    }
   ],
   "source": [
    "from langchain_ollama.chat_models import ChatOllama\n",
    "\n",
    "def Multiply(a: int, b: int): \n",
    "    \"\"\"Multiply call this tool \n",
    "    when you want to multiply two numbers \n",
    "    Args: \n",
    "        a:int \n",
    "        b:int\n",
    "    Returns: \n",
    "        a*b\n",
    "    \"\"\"\n",
    "    return a * b\n",
    "\n",
    "llm_with_tools = ChatOllama(model=\"llama3-groq-tool-use\",tempreture=0).bind_tools([Multiply])\n",
    "llm_with_tools.invoke(\"multiply 5 and 5\").tool_calls"
   ]
  },
  {
   "cell_type": "code",
   "execution_count": 5,
   "id": "9bd2878b",
   "metadata": {},
   "outputs": [],
   "source": [
    "from langgraph.graph import START, END, StateGraph, MessagesState\n",
    "from langgraph.prebuilt import ToolNode\n",
    "from langgraph.prebuilt import tools_condition\n",
    "\n",
    "def tool_selector(state: MessagesState): \n",
    "    return {\"messages\": [llm_with_tools.invoke(state[\"messages\"])]}\n",
    "\n",
    "#create builder\n",
    "builder = StateGraph(MessagesState)\n",
    "\n",
    "#adding nodes\n",
    "builder.add_node(\"tool_selector\", tool_selector)\n",
    "builder.add_node(\"tools\",ToolNode([Multiply]))\n",
    "\n",
    "#adding edges\n",
    "builder.add_edge(START,\"tool_selector\")\n",
    "builder.add_conditional_edges(\"tool_selector\", tools_condition)\n",
    "builder.add_edge(\"tools\",END)"
   ]
  },
  {
   "cell_type": "code",
   "execution_count": 7,
   "id": "3b96b4ed",
   "metadata": {},
   "outputs": [],
   "source": [
    "#create workflow \n",
    "workflow = builder.compile()"
   ]
  },
  {
   "cell_type": "code",
   "execution_count": 8,
   "id": "6c74ab67",
   "metadata": {},
   "outputs": [
    {
     "data": {
      "image/jpeg": "[encoded data removed]",
      "text/plain": [
       "<IPython.core.display.Image object>"
      ]
     },
     "metadata": {},
     "output_type": "display_data"
    }
   ],
   "source": [
    "from IPython.display import Image, display\n",
    "\n",
    "display(Image(workflow.get_graph().draw_mermaid_png()))"
   ]
  },
  {
   "cell_type": "code",
   "execution_count": 10,
   "id": "c4285ec5",
   "metadata": {},
   "outputs": [
    {
     "data": {
      "text/plain": [
       "{'messages': [HumanMessage(content='multiply 2 and 55', id='7b747949-6e6b-462a-9c60-cbbb430e1fb0'),\n",
       "  AIMessage(content='', response_metadata={'model': 'llama3-groq-tool-use', 'created_at': '2024-09-13T18:04:12.404609369Z', 'message': {'role': 'assistant', 'content': '', 'tool_calls': [{'function': {'name': 'Multiply', 'arguments': {'a': 2, 'b': 55}}}]}, 'done_reason': 'stop', 'done': True, 'total_duration': 1201970268, 'load_duration': 30943470, 'prompt_eval_count': 186, 'prompt_eval_duration': 49746000, 'eval_count': 31, 'eval_duration': 1079204000}, id='run-f1a70a92-6cd9-426a-b9f1-8a84174adf8f-0', tool_calls=[{'name': 'Multiply', 'args': {'a': 2, 'b': 55}, 'id': '4b770de1-ba2b-4548-b05e-46c57faae511', 'type': 'tool_call'}], usage_metadata={'input_tokens': 186, 'output_tokens': 31, 'total_tokens': 217}),\n",
       "  ToolMessage(content='110', name='Multiply', id='c0fccd8e-9e3b-481e-990b-5102597343d9', tool_call_id='4b770de1-ba2b-4548-b05e-46c57faae511')]}"
      ]
     },
     "execution_count": 10,
     "metadata": {},
     "output_type": "execute_result"
    }
   ],
   "source": [
    "workflow.invoke({\"messages\": (\"user\",\"multiply 2 and 55\")})"
   ]
  }
 ],
 "metadata": {
  "kernelspec": {
   "display_name": "Python 3 (ipykernel)",
   "language": "python",
   "name": "python3"
  },
  "language_info": {
   "codemirror_mode": {
    "name": "ipython",
    "version": 3
   },
   "file_extension": ".py",
   "mimetype": "text/x-python",
   "name": "python",
   "nbconvert_exporter": "python",
   "pygments_lexer": "ipython3",
   "version": "3.12.6"
  }
 },
 "nbformat": 4,
 "nbformat_minor": 5
}
