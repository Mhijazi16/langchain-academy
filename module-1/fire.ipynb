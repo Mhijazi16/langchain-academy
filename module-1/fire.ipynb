{
 "cells": [
  {
   "cell_type": "code",
   "execution_count": 1,
   "metadata": {},
   "outputs": [],
   "source": [
    "from langgraph.graph import MessageGraph, START, END\n",
    "from langgraph.prebuilt import ToolNode, tools_condition\n",
    "from langchain_core.messages import HumanMessage, SystemMessage\n",
    "from langchain_ollama.chat_models import ChatOllama\n",
    "from langchain_groq.chat_models import ChatGroq"
   ]
  },
  {
   "cell_type": "code",
   "execution_count": 2,
   "metadata": {},
   "outputs": [],
   "source": [
    "mistral = ChatOllama(model=\"mistral-nemo\",temperature=0)\n",
    "llama3 = ChatOllama(model=\"llama3-groq-tool-use\",temperature=0)\n",
    "groq = ChatGroq(model=\"llama3-groq-8b-8192-tool-use-preview\")"
   ]
  },
  {
   "cell_type": "code",
   "execution_count": 4,
   "metadata": {},
   "outputs": [],
   "source": [
    "def authenticate_user(username: str, password: str) -> bool: \n",
    "    \"\"\" authenticate_user is used to check if user \n",
    "    is authenticated. \n",
    "    Args: \n",
    "        username: str\n",
    "        password: str\n",
    "    Returns: \n",
    "        true if authenticated \n",
    "        false if not authenticated\n",
    "    \"\"\"\n",
    "    if username == \"Mohammed\" and password == \"123\": \n",
    "        return True\n",
    "    return False"
   ]
  },
  {
   "cell_type": "code",
   "execution_count": null,
   "metadata": {},
   "outputs": [],
   "source": []
  }
 ],
 "metadata": {
  "kernelspec": {
   "display_name": "langgraph",
   "language": "python",
   "name": "python3"
  },
  "language_info": {
   "codemirror_mode": {
    "name": "ipython",
    "version": 3
   },
   "file_extension": ".py",
   "mimetype": "text/x-python",
   "name": "python",
   "nbconvert_exporter": "python",
   "pygments_lexer": "ipython3",
   "version": "3.12.6"
  }
 },
 "nbformat": 4,
 "nbformat_minor": 2
}
